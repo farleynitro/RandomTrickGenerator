{
 "cells": [
  {
   "cell_type": "code",
   "execution_count": 1,
   "id": "ad294439",
   "metadata": {},
   "outputs": [],
   "source": [
    "import random\n",
    "import itertools\n",
    "import webbrowser\n",
    "from urllib.parse import quote"
   ]
  },
  {
   "cell_type": "markdown",
   "id": "e6af4d1e",
   "metadata": {},
   "source": [
    "# Input data"
   ]
  },
  {
   "cell_type": "code",
   "execution_count": 2,
   "id": "2544ec49",
   "metadata": {},
   "outputs": [],
   "source": [
    "tricks = {\n",
    "    \"Beginner Flatground\": [\n",
    "        \"Ollie\",\n",
    "        \"Kickflip\",\n",
    "        \"Heelflip\",\n",
    "        \"Shuvit\",\n",
    "        \"50-50\"\n",
    "    ],\n",
    "    \"Beginner Grinds\": [\n",
    "        \"5-0 grind\",\n",
    "        \"Boardslide\",\n",
    "        \"50-50 grind\",\n",
    "        \"Smith grind\",\n",
    "        \"Feeble grind\"\n",
    "    ],\n",
    "    \"Beginner Ramps\": [\n",
    "        \"Rock to Fakie\",\n",
    "        \"Axle Stall\",\n",
    "        \"Tail Stall\",\n",
    "        \"Nose Stall\",\n",
    "        \"Kickturn\"\n",
    "    ],\n",
    "    \"Intermediate Flatground\": [\n",
    "        \"Pop Shuvit\",\n",
    "        \"Varial Kickflip\",\n",
    "        \"Varial Heelflip\",\n",
    "        \"Frontside 180\",\n",
    "        \"Backside 180\"\n",
    "    ],\n",
    "    \"Intermediate Grinds\": [\n",
    "        \"Crooked grind\",\n",
    "        \"Salad grind\",\n",
    "        \"Noseslide\",\n",
    "        \"50-50 to Backside 180 out\",\n",
    "        \"Backside Tailslide\"],\n",
    "    \"Intermediate Ramps\": [\n",
    "        \"Frontside Air\",\n",
    "        \"Backside Air\",\n",
    "        \"Disaster\",\n",
    "        \"Fakie Ollie\",\n",
    "        \"Boneless\"\n",
    "    ],\n",
    "    \"Advanced Flatground\": [\n",
    "        \"Hardflip\",\n",
    "        \"Inward Heelflip\",\n",
    "        \"360 Flip\",\n",
    "        \"Laser Flip\",\n",
    "        \"360 Shuvit\"\n",
    "    ],\n",
    "    \"Advanced Grinds\": [\n",
    "        \"5-0 to fakie\",\n",
    "        \"Feeble to fakie\",\n",
    "        \"Nollie Nosegrind\",\n",
    "        \"Nollie Crooked grind\",\n",
    "        \"Switch 50-50\"\n",
    "    ],\n",
    "    \"Advanced Ramps\": [\n",
    "        \"Frontside Feeble grind\",\n",
    "        \"Backside Feeble grind\",\n",
    "        \"Frontside Smith grind\",\n",
    "        \"Backside Smith grind\",\n",
    "        \"Frontside Disaster\"\n",
    "    ]\n",
    "}"
   ]
  },
  {
   "cell_type": "code",
   "execution_count": 3,
   "id": "85f42b30",
   "metadata": {},
   "outputs": [],
   "source": [
    "def trick_tracker(chosen_level, chosen_location):\n",
    "    # create list of input values\n",
    "    levels = ['Beginner', 'Intermediate', 'Advanced']\n",
    "    location = ['Flatground', 'Grinds', 'Ramps']\n",
    "    tricks_list = []\n",
    "    for level in levels:\n",
    "        for loc in location:\n",
    "            game = chosen_level + \" \" + chosen_location     \n",
    "            if game in tricks:\n",
    "                random_trick = random.choice(tricks[game])\n",
    "                tricks_list.append(random_trick)\n",
    "            \n",
    "    print(\"Yo yo, do the following trick:\", random_trick)\n",
    "    return random_trick\n"
   ]
  },
  {
   "cell_type": "code",
   "execution_count": 9,
   "id": "2965e658",
   "metadata": {},
   "outputs": [],
   "source": [
    "def search_trick(random_trick):\n",
    "    # define the search query\n",
    "    search_term = str(\"How to do this skateboarding trick\" + \" \" + random_trick)\n",
    "\n",
    "    url = \"https://www.youtube.com/results?search_query=\" + quote(search_term)\n",
    "    \n",
    "    # construct the URL of the YouTube search page with the encoded query\n",
    "    url = \"https://www.youtube.com/results?search_query=\" + url\n",
    "\n",
    "    # open the URL in a new tab of the default web browser\n",
    "    webbrowser.open_new_tab(url)\n",
    "    \n",
    "    \n",
    "#     webbrowser.open(url)"
   ]
  },
  {
   "cell_type": "markdown",
   "id": "d72220f2",
   "metadata": {},
   "source": [
    "# Choose your weapon!"
   ]
  },
  {
   "cell_type": "code",
   "execution_count": 5,
   "id": "43134fc5",
   "metadata": {},
   "outputs": [
    {
     "name": "stdout",
     "output_type": "stream",
     "text": [
      "Choose your level: Beginner, Intermediate, Advanced\n",
      "Beginner\n",
      "choose your location: Flatground, Grinds, Ramps\n",
      "Flatground\n"
     ]
    }
   ],
   "source": [
    "#choose level and location\n",
    "choose_level = 'Choose your level: Beginner, Intermediate, Advanced'\n",
    "choose_location = 'choose your location: Flatground, Grinds, Ramps'\n",
    "print(choose_level)\n",
    "chosen_level = input()\n",
    "print(choose_location)\n",
    "chosen_location = input()"
   ]
  },
  {
   "cell_type": "code",
   "execution_count": 10,
   "id": "e0c37c1c",
   "metadata": {},
   "outputs": [
    {
     "name": "stdout",
     "output_type": "stream",
     "text": [
      "Yo yo, do the following trick: Shuvit\n",
      "Shuvit\n"
     ]
    }
   ],
   "source": [
    "trick = trick_tracker(chosen_level, chosen_location)\n",
    "print(trick)"
   ]
  },
  {
   "cell_type": "markdown",
   "id": "e6f628c6",
   "metadata": {},
   "source": [
    "# HOW DO I DO THAT!?"
   ]
  },
  {
   "cell_type": "code",
   "execution_count": null,
   "id": "3e6a750e",
   "metadata": {},
   "outputs": [],
   "source": [
    "search_trick(trick)"
   ]
  },
  {
   "cell_type": "code",
   "execution_count": null,
   "id": "6d0f5a67",
   "metadata": {},
   "outputs": [],
   "source": []
  },
  {
   "cell_type": "code",
   "execution_count": null,
   "id": "0296de53",
   "metadata": {},
   "outputs": [],
   "source": []
  }
 ],
 "metadata": {
  "kernelspec": {
   "display_name": "Python 3",
   "language": "python",
   "name": "python3"
  },
  "language_info": {
   "codemirror_mode": {
    "name": "ipython",
    "version": 3
   },
   "file_extension": ".py",
   "mimetype": "text/x-python",
   "name": "python",
   "nbconvert_exporter": "python",
   "pygments_lexer": "ipython3",
   "version": "3.8.8"
  }
 },
 "nbformat": 4,
 "nbformat_minor": 5
}
