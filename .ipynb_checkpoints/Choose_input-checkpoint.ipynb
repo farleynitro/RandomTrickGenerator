{
 "cells": [
  {
   "cell_type": "code",
   "execution_count": 88,
   "id": "3713341b",
   "metadata": {},
   "outputs": [],
   "source": [
    "import random\n",
    "import itertools\n",
    "import webbrowser\n",
    "from urllib.parse import quote"
   ]
  },
  {
   "cell_type": "markdown",
   "id": "d7f29b4c",
   "metadata": {},
   "source": [
    "# Input data"
   ]
  },
  {
   "cell_type": "code",
   "execution_count": 32,
   "id": "d081184c",
   "metadata": {},
   "outputs": [],
   "source": [
    "tricks = {\n",
    "    \"Beginner Flatground\": [\n",
    "        \"Ollie\",\n",
    "        \"Kickflip\",\n",
    "        \"Heelflip\",\n",
    "        \"Shuvit\",\n",
    "        \"50-50\"\n",
    "    ],\n",
    "    \"Beginner Grinds\": [\n",
    "        \"5-0 grind\",\n",
    "        \"Boardslide\",\n",
    "        \"50-50 grind\",\n",
    "        \"Smith grind\",\n",
    "        \"Feeble grind\"\n",
    "    ],\n",
    "    \"Beginner Ramps\": [\n",
    "        \"Rock to Fakie\",\n",
    "        \"Axle Stall\",\n",
    "        \"Tail Stall\",\n",
    "        \"Nose Stall\",\n",
    "        \"Kickturn\"\n",
    "    ],\n",
    "    \"Intermediate Flatground\": [\n",
    "        \"Pop Shuvit\",\n",
    "        \"Varial Kickflip\",\n",
    "        \"Varial Heelflip\",\n",
    "        \"Frontside 180\",\n",
    "        \"Backside 180\"\n",
    "    ],\n",
    "    \"Intermediate Grinds\": [\n",
    "        \"Crooked grind\",\n",
    "        \"Salad grind\",\n",
    "        \"Noseslide\",\n",
    "        \"50-50 to Backside 180 out\",\n",
    "        \"Backside Tailslide\"],\n",
    "    \"Intermediate Ramps\": [\n",
    "        \"Frontside Air\",\n",
    "        \"Backside Air\",\n",
    "        \"Disaster\",\n",
    "        \"Fakie Ollie\",\n",
    "        \"Boneless\"\n",
    "    ],\n",
    "    \"Advanced Flatground\": [\n",
    "        \"Hardflip\",\n",
    "        \"Inward Heelflip\",\n",
    "        \"360 Flip\",\n",
    "        \"Laser Flip\",\n",
    "        \"360 Shuvit\"\n",
    "    ],\n",
    "    \"Advanced Grinds\": [\n",
    "        \"5-0 to fakie\",\n",
    "        \"Feeble to fakie\",\n",
    "        \"Nollie Nosegrind\",\n",
    "        \"Nollie Crooked grind\",\n",
    "        \"Switch 50-50\"\n",
    "    ],\n",
    "    \"Advanced Ramps\": [\n",
    "        \"Frontside Feeble grind\",\n",
    "        \"Backside Feeble grind\",\n",
    "        \"Frontside Smith grind\",\n",
    "        \"Backside Smith grind\",\n",
    "        \"Frontside Disaster\"\n",
    "    ]\n",
    "}"
   ]
  },
  {
   "cell_type": "code",
   "execution_count": 74,
   "id": "19dba8e2",
   "metadata": {},
   "outputs": [],
   "source": [
    "def trick_tracker(chosen_level, chosen_location):\n",
    "    # create list of input values\n",
    "    levels = ['Beginner', 'Intermediate', 'Advanced']\n",
    "    location = ['Flatground', 'Grinds', 'Ramps']\n",
    "    tricks_list = []\n",
    "    for level in levels:\n",
    "        for loc in location:\n",
    "            game = chosen_level + \" \" + chosen_location     \n",
    "            if game in tricks:\n",
    "                random_trick = random.choice(tricks[game])\n",
    "                tricks_list.append(random_trick)\n",
    "            \n",
    "    print(\"Yo yo, do the following trick:\", random_trick)\n",
    "    return random_trick\n"
   ]
  },
  {
   "cell_type": "code",
   "execution_count": 84,
   "id": "9d767058",
   "metadata": {},
   "outputs": [],
   "source": [
    "def search_trick(random_trick):\n",
    "    # define the search query\n",
    "    search_query = str(\"How to do this skateboarding trick\" + \" \" + random_trick)\n",
    "    print(search_query)\n",
    "    # encode the search query\n",
    "    query_encoded = webbrowser.quote(search_query)\n",
    "\n",
    "    # construct the URL of the YouTube search page with the encoded query\n",
    "    url = \"https://www.youtube.com/results?search_query=\" + query_encoded\n",
    "\n",
    "    # open the URL in a new tab of the default web browser\n",
    "    webbrowser.open_new_tab(url)"
   ]
  },
  {
   "cell_type": "markdown",
   "id": "932f35ac",
   "metadata": {},
   "source": [
    "# Choose your weapon!"
   ]
  },
  {
   "cell_type": "code",
   "execution_count": 76,
   "id": "fcdf0798",
   "metadata": {},
   "outputs": [
    {
     "name": "stdout",
     "output_type": "stream",
     "text": [
      "Choose your level: Beginner, Intermediate, Advanced\n",
      "Beginner\n",
      "choose your location: Flatground, Grinds, Ramps\n",
      "Grinds\n"
     ]
    }
   ],
   "source": [
    "#choose level and location\n",
    "choose_level = 'Choose your level: Beginner, Intermediate, Advanced'\n",
    "choose_location = 'choose your location: Flatground, Grinds, Ramps'\n",
    "print(choose_level)\n",
    "chosen_level = input()\n",
    "print(choose_location)\n",
    "chosen_location = input()"
   ]
  },
  {
   "cell_type": "code",
   "execution_count": 87,
   "id": "3b3912c3",
   "metadata": {},
   "outputs": [
    {
     "name": "stdout",
     "output_type": "stream",
     "text": [
      "Yo yo, do the following trick: Feeble grind\n",
      "Feeble grind\n",
      "How to do this skateboarding trick Feeble grind\n"
     ]
    },
    {
     "ename": "AttributeError",
     "evalue": "module 'webbrowser' has no attribute 'quote'",
     "output_type": "error",
     "traceback": [
      "\u001b[0;31m---------------------------------------------------------------------------\u001b[0m",
      "\u001b[0;31mAttributeError\u001b[0m                            Traceback (most recent call last)",
      "\u001b[0;32m<ipython-input-87-bcc92b8ea42e>\u001b[0m in \u001b[0;36m<module>\u001b[0;34m\u001b[0m\n\u001b[1;32m      2\u001b[0m \u001b[0mprint\u001b[0m\u001b[0;34m(\u001b[0m\u001b[0mtrick\u001b[0m\u001b[0;34m)\u001b[0m\u001b[0;34m\u001b[0m\u001b[0;34m\u001b[0m\u001b[0m\n\u001b[1;32m      3\u001b[0m \u001b[0;34m\u001b[0m\u001b[0m\n\u001b[0;32m----> 4\u001b[0;31m \u001b[0msearch_trick\u001b[0m\u001b[0;34m(\u001b[0m\u001b[0mtrick\u001b[0m\u001b[0;34m)\u001b[0m\u001b[0;34m\u001b[0m\u001b[0;34m\u001b[0m\u001b[0m\n\u001b[0m",
      "\u001b[0;32m<ipython-input-84-e484ad85fff9>\u001b[0m in \u001b[0;36msearch_trick\u001b[0;34m(random_trick)\u001b[0m\n\u001b[1;32m      4\u001b[0m     \u001b[0mprint\u001b[0m\u001b[0;34m(\u001b[0m\u001b[0msearch_query\u001b[0m\u001b[0;34m)\u001b[0m\u001b[0;34m\u001b[0m\u001b[0;34m\u001b[0m\u001b[0m\n\u001b[1;32m      5\u001b[0m     \u001b[0;31m# encode the search query\u001b[0m\u001b[0;34m\u001b[0m\u001b[0;34m\u001b[0m\u001b[0;34m\u001b[0m\u001b[0m\n\u001b[0;32m----> 6\u001b[0;31m     \u001b[0mquery_encoded\u001b[0m \u001b[0;34m=\u001b[0m \u001b[0mwebbrowser\u001b[0m\u001b[0;34m.\u001b[0m\u001b[0mquote\u001b[0m\u001b[0;34m(\u001b[0m\u001b[0msearch_query\u001b[0m\u001b[0;34m)\u001b[0m\u001b[0;34m\u001b[0m\u001b[0;34m\u001b[0m\u001b[0m\n\u001b[0m\u001b[1;32m      7\u001b[0m \u001b[0;34m\u001b[0m\u001b[0m\n\u001b[1;32m      8\u001b[0m     \u001b[0;31m# construct the URL of the YouTube search page with the encoded query\u001b[0m\u001b[0;34m\u001b[0m\u001b[0;34m\u001b[0m\u001b[0;34m\u001b[0m\u001b[0m\n",
      "\u001b[0;31mAttributeError\u001b[0m: module 'webbrowser' has no attribute 'quote'"
     ]
    }
   ],
   "source": [
    "trick = trick_tracker(chosen_level, chosen_location)\n",
    "print(trick)\n",
    "\n",
    "search_trick(trick)"
   ]
  },
  {
   "cell_type": "code",
   "execution_count": null,
   "id": "180a7ef7",
   "metadata": {},
   "outputs": [],
   "source": []
  },
  {
   "cell_type": "code",
   "execution_count": null,
   "id": "39c3d5ca",
   "metadata": {},
   "outputs": [],
   "source": []
  },
  {
   "cell_type": "code",
   "execution_count": null,
   "id": "81db248f",
   "metadata": {},
   "outputs": [],
   "source": []
  },
  {
   "cell_type": "code",
   "execution_count": null,
   "id": "cb504bb8",
   "metadata": {},
   "outputs": [],
   "source": []
  }
 ],
 "metadata": {
  "kernelspec": {
   "display_name": "Python 3",
   "language": "python",
   "name": "python3"
  },
  "language_info": {
   "codemirror_mode": {
    "name": "ipython",
    "version": 3
   },
   "file_extension": ".py",
   "mimetype": "text/x-python",
   "name": "python",
   "nbconvert_exporter": "python",
   "pygments_lexer": "ipython3",
   "version": "3.8.8"
  }
 },
 "nbformat": 4,
 "nbformat_minor": 5
}
